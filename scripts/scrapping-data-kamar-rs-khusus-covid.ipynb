{
 "cells": [
  {
   "cell_type": "code",
   "execution_count": 1,
   "metadata": {},
   "outputs": [],
   "source": [
    "import pandas as pd\n",
    "from bs4 import BeautifulSoup as soup\n",
    "import csv\n",
    "from pathlib import Path\n",
    "\n",
    "import datetime\n",
    "\n",
    "now = datetime.datetime.now()"
   ]
  },
  {
   "cell_type": "code",
   "execution_count": 2,
   "metadata": {},
   "outputs": [],
   "source": [
    "import selenium\n",
    "from selenium import webdriver"
   ]
  },
  {
   "cell_type": "code",
   "execution_count": 3,
   "metadata": {},
   "outputs": [
    {
     "name": "stderr",
     "output_type": "stream",
     "text": [
      "/opt/tljh/user/lib/python3.7/site-packages/ipykernel_launcher.py:8: DeprecationWarning: use options instead of chrome_options\n",
      "  \n"
     ]
    }
   ],
   "source": [
    "# konfigurasi chromedriver\n",
    "chrome_options = webdriver.ChromeOptions()\n",
    "chrome_options.add_argument('--no-sandbox')\n",
    "chrome_options.add_argument('--window-size=1420,1080')\n",
    "chrome_options.add_argument('--headless')\n",
    "chrome_options.add_argument('--disable-gpu')\n",
    "\n",
    "browser = webdriver.Chrome(chrome_options=chrome_options)"
   ]
  },
  {
   "cell_type": "code",
   "execution_count": 4,
   "metadata": {},
   "outputs": [
    {
     "data": {
      "text/plain": [
       "89"
      ]
     },
     "execution_count": 4,
     "metadata": {},
     "output_type": "execute_result"
    }
   ],
   "source": [
    "\n",
    "data_folder = Path(\"data/\")\n",
    "file_data = 'data_kamar_detail' + now.strftime(\"%Y%m%d\") + '-' + now.strftime(\"%H%M\") + '.csv'\n",
    "filename = data_folder / file_data\n",
    "csvFile = open(filename, 'a')\n",
    "#Use csv Writer\n",
    "csvWriter = csv.writer(csvFile)\n",
    "csvWriter.writerow(['satker', 'nama', 'alamat', 'prov', 'ruang', 'total_kamar', 'total_terisi', 'total_kosong', 'last_update','lat','lng'])\n",
    "\n"
   ]
  },
  {
   "cell_type": "code",
   "execution_count": 5,
   "metadata": {},
   "outputs": [],
   "source": [
    "faskes_df = pd.read_csv(\"list-faskes-filtered.csv\",delimiter=',',encoding='ISO-8859-1')\n",
    "#faskes_df.head()"
   ]
  },
  {
   "cell_type": "code",
   "execution_count": null,
   "metadata": {},
   "outputs": [],
   "source": [
    "for index, row in faskes_df.iterrows():\n",
    "    \n",
    "    satker = str(row['kode_rs'])\n",
    "    nama_rs = str(row['nama_unit'])\n",
    "    alamat =  str(row['alamat'])\n",
    "    prov =  str(row['nama_prov'])\n",
    "    lat =  row['lat']\n",
    "    long =  row['lng']\n",
    "    \n",
    "    _ruang = '-'\n",
    "    _total_kamar = '0'\n",
    "    _total_kosong = '0'\n",
    "    _total_isi = '0'\n",
    "    _last_update = '-'\n",
    "    \n",
    "    \n",
    "    \n",
    "    #if (satker == '3471052'):\n",
    "    link = 'http://yankes.kemkes.go.id/app/siranap/tempat_tidur?kode_rs='+satker+'&jenis=1'\n",
    "    browser.get(link)\n",
    "    #print(r)\n",
    "    data = browser.page_source\n",
    "    url = soup(data,\"lxml\")\n",
    "\n",
    "    card = url.find_all('div', attrs={'class':'card h-100'})\n",
    "    #print(nama_rs)\n",
    "    if card is not None:\n",
    "        for col in card:\n",
    "            _satker = satker\n",
    "            _nama = nama_rs\n",
    "            _alamat = alamat\n",
    "            _prov = prov\n",
    "            _lat = lat\n",
    "            _long = long\n",
    "            _ruang = col.find('h5', attrs={'class':'text-center'}).text\n",
    "            #print(str(_ruang))\n",
    "            _total_kamar = col.find('div', attrs={'class':'col-4 offset-2 pl-0 pr-0 col-md-4 offset-md-2 border text-center mr-2 pt-1'}).find('h1').text\n",
    "            _total_kosong = col.find('div', attrs={'class':'col-4 pl-0 pr-0 col-md-4 border text-center pt-1'}).find('h1').text\n",
    "            _total_terisi = int(_total_kamar) - int(_total_kosong)\n",
    "            _last_update = col.find('div', attrs={'class':'ml-auto mt-1'}).text\n",
    "\n",
    "            csvWriter.writerow([_satker, _nama, _alamat, _prov, _ruang, _total_kamar, _total_terisi, _total_kosong, _last_update, _lat, _long])\n"
   ]
  },
  {
   "cell_type": "code",
   "execution_count": null,
   "metadata": {},
   "outputs": [],
   "source": [
    "csvFile.close()"
   ]
  },
  {
   "cell_type": "code",
   "execution_count": null,
   "metadata": {},
   "outputs": [],
   "source": [
    "dataset = pd.read_csv(filename)\n",
    "dataset.shape"
   ]
  },
  {
   "cell_type": "code",
   "execution_count": null,
   "metadata": {},
   "outputs": [],
   "source": [
    "dataset.head()"
   ]
  },
  {
   "cell_type": "code",
   "execution_count": null,
   "metadata": {},
   "outputs": [],
   "source": [
    "#import pandas_profiling\n",
    "#dataset.profile_report()"
   ]
  }
 ],
 "metadata": {
  "kernelspec": {
   "display_name": "Python 3",
   "language": "python",
   "name": "python3"
  },
  "language_info": {
   "codemirror_mode": {
    "name": "ipython",
    "version": 3
   },
   "file_extension": ".py",
   "mimetype": "text/x-python",
   "name": "python",
   "nbconvert_exporter": "python",
   "pygments_lexer": "ipython3",
   "version": "3.7.3"
  }
 },
 "nbformat": 4,
 "nbformat_minor": 4
}
